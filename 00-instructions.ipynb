{
 "cells": [
  {
   "cell_type": "markdown",
   "metadata": {},
   "source": [
    "#<span style=\"color:#0b486b\">SIT 112 - Data Science Concepts</span>\n",
    "\n",
    "---\n",
    "Lecturer: Dinh Phung | dinh.phung@deakin.edu.au<br />\n",
    "Assistant: Adham Beyki | abeyki@deakin.edu.au\n",
    "\n",
    "School of Information Technology, <br />\n",
    "Deakin University, VIC 3215, Australia.\n",
    "\n",
    "---\n",
    "\n",
    "## <span style=\"color:#0b486b\">Practical Session 0: Python Primer and Installation Instructions</span>\n",
    "\n",
    "**The purpose of this session is:**\n",
    "\n",
    "1. giving you a very short introduction to Python and different ways you can use it\n",
    "2. guiding you step by step to install Python"
   ]
  },
  {
   "cell_type": "markdown",
   "metadata": {},
   "source": [
    "---\n",
    "# <span style=\"color:#0b486b\">1. What is Python?</span>"
   ]
  },
  {
   "cell_type": "markdown",
   "metadata": {},
   "source": [
    "[Python](http://www.python.org/) is a modern, general-purpose, object-oriented, high-level programming language.\n",
    "\n",
    "**General characteristics of Python**:\n",
    "\n",
    "* **clean and simple language:** Easy-to-read and intuitive code, easy-to-learn minimalistic syntax, maintainability scales well with size of projects.\n",
    "* **expressive language:** Fewer lines of code, fewer bugs, easier to maintain.\n",
    "\n",
    "**Technical details**:\n",
    "\n",
    "* **dynamically typed:** No need to define the type of variables, function arguments or return types.\n",
    "* **automatic memory management:** No need to explicitly allocate and deallocate memory for variables and data arrays. No memory leak bugs. \n",
    "* **interpreted:** No need to compile the code. The Python interpreter reads and executes the python code directly.\n",
    "\n",
    "**Advantages**:\n",
    "\n",
    "* The main advantage is ease of programming, minimizing the time required to develop, debug and maintain the code.\n",
    "* Well designed language that encourage many good programming practices:\n",
    " * Modular and object-oriented programming, good system for packaging and re-use of code. This often results in more transparent, maintainable and bug-free code.\n",
    " * Documentation tightly integrated with the code.\n",
    "* A large standard library, and a large collection of add-on packages.\n",
    "\n",
    "**Disadvantages**:\n",
    "\n",
    "* Since Python is an interpreted and dynamically typed programming language, the execution of python code can be slow compared to compiled statically typed programming languages, such as C and Fortran. \n",
    "* Somewhat decentralized, with different environment, packages and documentation spread out at different places. Can make it harder to get started."
   ]
  },
  {
   "cell_type": "markdown",
   "metadata": {},
   "source": [
    "---\n",
    "# <span style=\"color:#0b486b\">2. Versions of Python</span>\n",
    "\n",
    "There are two versions of Python that are being used by the community: Python 2 and Python 3. Python 3 will eventually supercede Python 2, and it is not backward-compatible with Python 2. But since a lot of existing python code and packages has been written for Python 2, and it is still the most wide-spread version, many people still prefer to use Python 2 instead of Python 3.\n",
    "\n",
    "**We will be using Python 2 (2.7 to be more specific) in this course.**"
   ]
  },
  {
   "cell_type": "markdown",
   "metadata": {},
   "source": [
    "---\n",
    "# <span style=\"color:#0b486b\">3. Installing Python</span>\n"
   ]
  },
  {
   "cell_type": "markdown",
   "metadata": {},
   "source": [
    "There are many ways to install Python and necessary modules for this course but the most straightforward way is using a scientific distribution such as [Anaconda Scientific Distribution](https://store.continuum.io/cshop/anaconda/). We highly recommend you to use **anaconda** because it comes with most of the modules you need for the course, e.g IPython, numpy, matplotlib, and Spyder and you don't need to install them individually..  Follow these steps to install anaconda:\n",
    "\n",
    "1. Download Anaconda with Python 2.7 compatible with your OS from http://continuum.io/downloads#27.\n",
    "2. Double click on the downloaded file.\n",
    "3. Click on Next\n",
    "<br />\n",
    "<!-- <img src=\"files/images/anaconda_installation_0.png\" width=\"400\"> -->\n",
    "<img src=\"images/anaconda_installation_0.png\" width=\"400\">\n",
    "<br />\n",
    "4. Click on I Agree\n",
    "<!-- <img src=\"files/images/anaconda_installation_1.png\" width=\"400\"> -->\n",
    "<img src=\"images/anaconda_installation_1.png\" width=\"400\">\n",
    "<br />\n",
    "5. Click on Next\n",
    "<!-- <img src=\"files/images/anaconda_installation_2.png\" width=\"400\"> -->\n",
    "<img src=\"images/anaconda_installation_2.png\" width=\"400\">\n",
    "<br />\n",
    "6. Click on Next and complete the installation.\n",
    "<br />\n",
    "<!-- <img src=\"files/images/anaconda_installation_3.png\" width=\"400\"> -->\n",
    "<img src=\"images/anaconda_installation_3.png\" width=\"400\">\n",
    "<br />\n",
    "7. Check out the [Continuum documentation](http://docs.continuum.io/anaconda/install.html) if there is a problem with installation. "
   ]
  },
  {
   "cell_type": "markdown",
   "metadata": {},
   "source": [
    "---\n",
    "# <span style=\"color:#0b486b\">4. Python interpreter</span>"
   ]
  },
  {
   "cell_type": "markdown",
   "metadata": {},
   "source": [
    "The standard way to use the Python programming language is to use the Python interpreter to run python code. It reads and executes the file that is passed to it. Use the command <kbd>python</kbd> in a terminal to invoke the Python interpreter.\n",
    "\n",
    "For example, suppose the file `'my-program.py'` contains some Python code. To run it, execute the following command in a terminal window: \n",
    "\n",
    "<kbd>> python my-program.py</kbd>\n",
    "\n",
    "We can also start the interpreter by simply typing ``python`` at the command line, and interactively type python code into the interpreter:\n",
    "\n",
    "<!-- <img src=\"files/images/python_screenshot.png\" width=\"604\"> -->\n",
    "<img src=\"images/python_screenshot.png\" width=\"604\">\n",
    "\n",
    "\n",
    "This is often how we want to work when developing scientific applications, or when doing small calculations. But the standard python interpreter is not very convenient for this kind of work, due to a number of limitations."
   ]
  },
  {
   "cell_type": "markdown",
   "metadata": {},
   "source": [
    "---\n",
    "# <span style=\"color:#0b486b\">5. IPython: Interactive Python</span>"
   ]
  },
  {
   "cell_type": "markdown",
   "metadata": {},
   "source": [
    "IPython is an interactive shell that addresses the limitation of the standard python interpreter, and it is a work-horse for scientific use of python. It provides an interactive prompt to the python interpreter with a greatly improved user-friendliness. You can start IPython by running the command <kbd>ipython</kbd> in your terminal.\n",
    "\n",
    "<!-- <img src=\"files/images/ipython_screenshot.png\" width=\"600\"> -->\n",
    "<img src=\"images/ipython_screenshot.png\" width=\"600\">\n",
    "\n",
    "Some of the many useful features of IPython includes:\n",
    "\n",
    "* Command history, which can be browsed with the up and down arrows on the keyboard.\n",
    "* Tab auto-completion.\n",
    "* In-line editing of code.\n",
    "* Object introspection, and automatic extract of documentation strings from python objects like classes and functions.\n",
    "* Good interaction with operating system shell.\n",
    "* Support for multiple parallel back-end processes, that can run on computing clusters or cloud services like Amazon EE2.\n"
   ]
  },
  {
   "cell_type": "markdown",
   "metadata": {},
   "source": [
    "---\n",
    "# <span style=\"color:#0b486b\">6. IPython Notebook</span>"
   ]
  },
  {
   "cell_type": "markdown",
   "metadata": {},
   "source": [
    "[IPython notebook](http://ipython.org/notebook.html) is an HTML-based notebook environment for Python, similar to Mathematica or Maple. It is based on the IPython shell, but provides a cell-based web-based environment with great interactivity, where calculations can be organized and documented in a structured way.\n",
    "\n",
    "Although Ipython notebooks use a web browser as graphical interface and can be set up to be accessed remotely, they are usually run locally from the same computer that runs the browser. To start a new IPython notebook session, run the following command in your terminal:\n",
    "\n",
    "<kbd>> ipython notebook</kbd>\n",
    "    \n",
    "<!-- <img src=\"files/images/ipython_notebook_screenshot_0.png\"> -->\n",
    "<img src=\"images/ipython_notebook_screenshot_0.png\">\n",
    "\n",
    "This will open a new browser window (or a new tab in an existing window) with an index page where existing files and folders are shown. The information printed on the screen says that:\n",
    "\n",
    "    IPython Notebook is running at: http://localhost:8888/\n",
    "    \n",
    "\n",
    "Therefore if a new tab or page was not opened automatically or you closed it, type this address into your browser and hit Enter to navigate to the index page.\n",
    "\n",
    "<!-- <img src=\"files/images/ipython_notebook_screenshot_1.png\" width=\"800\"> -->\n",
    "<img src=\"images/ipython_notebook_screenshot_1.png\" width=\"800\">\n",
    "\n",
    "You can navigate to where your IPython notebooks are stored (with \\*.ipynb extension) and open the exisiting notebooks or create new ones.\n",
    "\n",
    "<!-- <img src=\"files/images/ipython_notebook_screenshot_2.png\" width=\"800\"> -->\n",
    "<img src=\"images/ipython_notebook_screenshot_2.png\" width=\"800\">\n",
    "\n",
    "\n",
    "Or use the following command to start IPython notebook from a specific directory:\n",
    "\n",
    "\n",
    "<kbd>> ipython notebook DIR</kbd>\n",
    "    \n",
    "In 2014, a spin-off project from Ipython called Project Jupyter was announced. Ipython would continue to exist as a kernel for Jupyter, but other language-agnostic parts of IPython (like notebook) moved to Jupyter. So technically, IPython notebooks are Jupyter notebooks with an IPython kernel."
   ]
  },
  {
   "cell_type": "markdown",
   "metadata": {},
   "source": [
    "## <span style=\"color:#0b486b\"> 6.1 Using IPython Notebook</span>"
   ]
  },
  {
   "cell_type": "markdown",
   "metadata": {},
   "source": [
    "Since all the tutorials and practical sessions of this course are delivered in IPython notebook format, make sure you know how to use them. [This tutorial](00-IPython-Notebook.ipynb) describes how to start, create and use IPython Notebook in details. "
   ]
  },
  {
   "cell_type": "markdown",
   "metadata": {},
   "source": [
    " ---\n",
    "# <span style=\"color:#0b486b\">7. Spyder</span>"
   ]
  },
  {
   "cell_type": "markdown",
   "metadata": {},
   "source": [
    "[Spyder](http://code.google.com/p/spyderlib/) is a MATLAB-like IDE for scientific computing with python. It has the many advantages of a traditional IDE environment, for example that everything from code editing, execution and debugging is carried out in a single environment, and work on different calculations can be organized as projects in the IDE environment. Start Spyder by running the command ``spyder``.\n",
    "\n",
    "<kbd>> spyder</kbd>\n",
    "    \n",
    "<!-- <img src=\"files/images/spyder_screenshot.png\" width=\"800\"> -->\n",
    "<img src=\"images/spyder_screenshot.png\" width=\"800\">\n",
    "\n",
    "Some advantages of Spyder:\n",
    "\n",
    "* Powerful code editor, with syntax high-lighting, dynamic code inspection and integration with the python debugger.\n",
    "* Variable explorer, IPython command prompt.\n",
    "* Integrated documentation and help."
   ]
  },
  {
   "cell_type": "markdown",
   "metadata": {},
   "source": [
    " ---\n",
    "# <span style=\"color:#0b486b\">8. Read further</span>"
   ]
  },
  {
   "cell_type": "markdown",
   "metadata": {},
   "source": [
    " * [Python](http://www.python.org) The official Python web site\n",
    " * [Python tutorials](http://docs.python.org/2/tutorial) The official Python tutorials\n",
    " * [Think Python](http://www.greenteapress.com/thinkpython) A free book on Python\n",
    " * [Google's Python Class](https://developers.google.com/edu/python/) Google's Python class\n",
    " * [Code Academy Python](http://www.codecademy.com/tracks/python). Learn Python on Code Academy "
   ]
  }
 ],
 "metadata": {
  "kernelspec": {
   "display_name": "Python 2",
   "language": "python",
   "name": "python2"
  },
  "language_info": {
   "codemirror_mode": {
    "name": "ipython",
    "version": 2
   },
   "file_extension": ".py",
   "mimetype": "text/x-python",
   "name": "python",
   "nbconvert_exporter": "python",
   "pygments_lexer": "ipython2",
   "version": "2.7.8"
  }
 },
 "nbformat": 4,
 "nbformat_minor": 0
}
